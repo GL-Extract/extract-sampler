{
 "metadata": {
  "language_info": {
   "codemirror_mode": {
    "name": "ipython",
    "version": 3
   },
   "file_extension": ".py",
   "mimetype": "text/x-python",
   "name": "python",
   "nbconvert_exporter": "python",
   "pygments_lexer": "ipython3",
   "version": "3.8.10"
  },
  "orig_nbformat": 4,
  "kernelspec": {
   "name": "python3",
   "display_name": "Python 3.8.10 64-bit"
  },
  "interpreter": {
   "hash": "e7370f93d1d0cde622a1f8e1c04877d8463912d04d973331ad4851f04de6915a"
  }
 },
 "nbformat": 4,
 "nbformat_minor": 2,
 "cells": [
  {
   "source": [
    "### Byte Size Analysis of Accuracy, Precision, and Recall"
   ],
   "cell_type": "markdown",
   "metadata": {}
  },
  {
   "cell_type": "code",
   "execution_count": 25,
   "metadata": {},
   "outputs": [],
   "source": [
    "import json, os, collections, math\n",
    "import matplotlib.pyplot as plt \n",
    "import numpy as np"
   ]
  },
  {
   "cell_type": "code",
   "execution_count": 30,
   "metadata": {},
   "outputs": [
    {
     "output_type": "stream",
     "name": "stdout",
     "text": [
      "[0.43673754 0.49146044 0.56605089 0.7615894  0.82188916 0.84384803\n 0.88672011 0.89787382 0.91042175 0.90693621 0.925061  ]\n[0.43081213 0.8208435  0.90170791 0.91251307 0.92436389 0.93516905\n 0.96235622 0.96131056 0.95956779 0.96514465 0.9654932 ]\n[0.45102823 0.83234577 0.90763332 0.89891948 0.91495295 0.91251307\n 0.9257581  0.90205647 0.86336703 0.79191356 0.78006274]\n"
     ]
    }
   ],
   "source": [
    "data_dict = dict()\n",
    "\n",
    "logit_data = np.zeros(11)\n",
    "rf_data = np.zeros(11)\n",
    "svc_data = np.zeros(11)\n",
    "\n",
    "for filename in os.listdir('byteSizeData'):\n",
    "    filename_split = filename.split('-')\n",
    "    byte_size = int(filename_split[7][:-10])\n",
    "    name_key = filename_split[0] + '-' + filename_split[7][:-10]\n",
    "    file_data = json.load(open('byteSizeData/' + filename))\n",
    "\n",
    "    if filename_split[0] == 'logit':\n",
    "        logit_data[int(math.log(byte_size, 2))] = file_data['Model accuracy']\n",
    "    elif filename_split[0] == 'rf':\n",
    "        rf_data[int(math.log(byte_size, 2))] = file_data['Model accuracy']\n",
    "    elif filename_split[0] == 'svc':\n",
    "        svc_data[int(math.log(byte_size, 2))] = file_data['Model accuracy']\n",
    "\n",
    "    data_dict[name_key] = file_data\n",
    "\n",
    "print(logit_data)\n",
    "print(rf_data)\n",
    "print(svc_data)"
   ]
  },
  {
   "cell_type": "code",
   "execution_count": null,
   "metadata": {},
   "outputs": [],
   "source": [
    "rf_data = []\n",
    "svc_data = []\n",
    "logit_data = []\n",
    "\n"
   ]
  }
 ]
}